{
  "cells": [
    {
      "attachments": {},
      "cell_type": "markdown",
      "metadata": {
        "id": "Y0OTZEaDZSMH"
      },
      "source": [
        "##RED NEURONAL "
      ]
    },
    {
      "cell_type": "code",
      "execution_count": 18,
      "metadata": {
        "colab": {
          "base_uri": "https://localhost:8080/"
        },
        "id": "T93FS_N3Z0lr",
        "outputId": "d3c244f0-ae3a-4ab2-f9c3-05d0611562cc"
      },
      "outputs": [
        {
          "name": "stdout",
          "output_type": "stream",
          "text": [
            "Requirement already satisfied: mysql-connector-python in c:\\users\\danie\\appdata\\local\\programs\\python\\python311\\lib\\site-packages (8.0.33)\n",
            "Requirement already satisfied: protobuf<=3.20.3,>=3.11.0 in c:\\users\\danie\\appdata\\local\\programs\\python\\python311\\lib\\site-packages (from mysql-connector-python) (3.20.3)\n",
            "Note: you may need to restart the kernel to use updated packages.\n"
          ]
        },
        {
          "name": "stderr",
          "output_type": "stream",
          "text": [
            "\n",
            "[notice] A new release of pip available: 22.3.1 -> 23.1.2\n",
            "[notice] To update, run: python.exe -m pip install --upgrade pip\n"
          ]
        }
      ],
      "source": [
        "%pip install mysql-connector-python"
      ]
    },
    {
      "attachments": {},
      "cell_type": "markdown",
      "metadata": {
        "id": "FrWeY4nOYdV7"
      },
      "source": [
        "##MANDAMOS A LLAMAR LA BASE DE DATOS"
      ]
    },
    {
      "cell_type": "code",
      "execution_count": 2,
      "metadata": {
        "colab": {
          "base_uri": "https://localhost:8080/"
        },
        "id": "XpPKOjApD3-_",
        "outputId": "0fb21696-97f8-42a4-ee11-e421181aa946"
      },
      "outputs": [
        {
          "name": "stdout",
          "output_type": "stream",
          "text": [
            "   id_venta  fin_semana  soleado  caluroso  quincena  precio  vendidos\n",
            "0         1           1        0         0         1     9.0      71.0\n",
            "1         2           1        1         1         0    10.0     137.0\n",
            "2         3           0        1         0         0    10.0       0.0\n",
            "3         4           1        0         0         1     6.0     107.0\n",
            "4         5           1        0         0         1     8.0      80.0\n"
          ]
        },
        {
          "name": "stderr",
          "output_type": "stream",
          "text": [
            "C:\\Users\\danie\\AppData\\Local\\Temp\\ipykernel_22192\\793177379.py:16: UserWarning: pandas only supports SQLAlchemy connectable (engine/connection) or database string URI or sqlite3 DBAPI2 connection. Other DBAPI2 objects are not tested. Please consider using SQLAlchemy.\n",
            "  df = pd.read_sql(query, mydb)\n"
          ]
        }
      ],
      "source": [
        "import pandas as pd\n",
        "import mysql.connector\n",
        "\n",
        "# Conecta con la base de datos\n",
        "mydb = mysql.connector.connect(\n",
        "  host=\"hpc-matematicas-z.fciencias.unam.mx\",\n",
        "  user=\"JimmyNeutron\",\n",
        "  password=\"CarlSheen\",\n",
        "  database=\"LIMONADA\"\n",
        ")\n",
        "\n",
        "# Define la consulta SQL\n",
        "query = \"SELECT * FROM VENTAS\"\n",
        "\n",
        "# Lee los datos de la base de datos y crea un DataFrame\n",
        "df = pd.read_sql(query, mydb)\n",
        "\n",
        "# Ahora puedes trabajar con los datos del DataFrame\n",
        "# por ejemplo, mostrar las primeras filas\n",
        "print(df.head())\n",
        "\n"
      ]
    },
    {
      "attachments": {},
      "cell_type": "markdown",
      "metadata": {
        "id": "gRzaqapkLo7R"
      },
      "source": [
        "##PASAMOS A ESTANDARIZAR"
      ]
    },
    {
      "cell_type": "code",
      "execution_count": 3,
      "metadata": {
        "id": "xo9hSl9eLntV"
      },
      "outputs": [],
      "source": [
        "# Calcule la media y la desviación estándar de la columna de precios, luego estandarice la columna de precios \n",
        "\n",
        "precioMean = df['precio'].mean() \n",
        "precioStd = df['precio'].std() \n",
        "df['precio'] = (df ['precio']-precioMean)/precioStd \n",
        " \n",
        "#print(\"la media es:\",precioMean ,\"de precio\")\n",
        "#print(\"la varianza es:\",precioStd ,\"de precio\")\n",
        "\n",
        "# Calcula la media y la desviación estándar de la columna numSold, luego estandariza numSold \n",
        "vendidosMean = df['vendidos'].mean() \n",
        "vendidosStd = df['vendidos'].std() \n",
        "df ['vendidos'] = (df['vendidos']-vendidosMean)/vendidosStd\n",
        "\n",
        "#print(\"la media es:\",vendidosMean,\"de vendidos\")\n",
        "#print(\"la varianza es:\",vendidosStd,\"de vendidos\")"
      ]
    },
    {
      "cell_type": "code",
      "execution_count": 7,
      "metadata": {
        "colab": {
          "base_uri": "https://localhost:8080/",
          "height": 206
        },
        "id": "-5pt9uElOYCj",
        "outputId": "96722931-562e-4571-c13c-0d9a93ca7c79"
      },
      "outputs": [
        {
          "data": {
            "text/html": [
              "<div>\n",
              "<style scoped>\n",
              "    .dataframe tbody tr th:only-of-type {\n",
              "        vertical-align: middle;\n",
              "    }\n",
              "\n",
              "    .dataframe tbody tr th {\n",
              "        vertical-align: top;\n",
              "    }\n",
              "\n",
              "    .dataframe thead th {\n",
              "        text-align: right;\n",
              "    }\n",
              "</style>\n",
              "<table border=\"1\" class=\"dataframe\">\n",
              "  <thead>\n",
              "    <tr style=\"text-align: right;\">\n",
              "      <th></th>\n",
              "      <th>id_venta</th>\n",
              "      <th>fin_semana</th>\n",
              "      <th>soleado</th>\n",
              "      <th>caluroso</th>\n",
              "      <th>quincena</th>\n",
              "      <th>precio</th>\n",
              "      <th>vendidos</th>\n",
              "    </tr>\n",
              "  </thead>\n",
              "  <tbody>\n",
              "    <tr>\n",
              "      <th>0</th>\n",
              "      <td>1</td>\n",
              "      <td>1</td>\n",
              "      <td>0</td>\n",
              "      <td>0</td>\n",
              "      <td>1</td>\n",
              "      <td>0.846650</td>\n",
              "      <td>-0.023669</td>\n",
              "    </tr>\n",
              "    <tr>\n",
              "      <th>1</th>\n",
              "      <td>2</td>\n",
              "      <td>1</td>\n",
              "      <td>1</td>\n",
              "      <td>1</td>\n",
              "      <td>0</td>\n",
              "      <td>1.452587</td>\n",
              "      <td>0.743734</td>\n",
              "    </tr>\n",
              "    <tr>\n",
              "      <th>2</th>\n",
              "      <td>3</td>\n",
              "      <td>0</td>\n",
              "      <td>1</td>\n",
              "      <td>0</td>\n",
              "      <td>0</td>\n",
              "      <td>1.452587</td>\n",
              "      <td>-0.849208</td>\n",
              "    </tr>\n",
              "    <tr>\n",
              "      <th>3</th>\n",
              "      <td>4</td>\n",
              "      <td>1</td>\n",
              "      <td>0</td>\n",
              "      <td>0</td>\n",
              "      <td>1</td>\n",
              "      <td>-0.971158</td>\n",
              "      <td>0.394915</td>\n",
              "    </tr>\n",
              "    <tr>\n",
              "      <th>4</th>\n",
              "      <td>5</td>\n",
              "      <td>1</td>\n",
              "      <td>0</td>\n",
              "      <td>0</td>\n",
              "      <td>1</td>\n",
              "      <td>0.240714</td>\n",
              "      <td>0.080977</td>\n",
              "    </tr>\n",
              "  </tbody>\n",
              "</table>\n",
              "</div>"
            ],
            "text/plain": [
              "   id_venta  fin_semana  soleado  caluroso  quincena    precio  vendidos\n",
              "0         1           1        0         0         1  0.846650 -0.023669\n",
              "1         2           1        1         1         0  1.452587  0.743734\n",
              "2         3           0        1         0         0  1.452587 -0.849208\n",
              "3         4           1        0         0         1 -0.971158  0.394915\n",
              "4         5           1        0         0         1  0.240714  0.080977"
            ]
          },
          "execution_count": 7,
          "metadata": {},
          "output_type": "execute_result"
        }
      ],
      "source": [
        "df.head()"
      ]
    },
    {
      "cell_type": "code",
      "execution_count": 19,
      "metadata": {},
      "outputs": [
        {
          "name": "stdout",
          "output_type": "stream",
          "text": [
            "Requirement already satisfied: torch in c:\\users\\danie\\appdata\\local\\programs\\python\\python311\\lib\\site-packages (2.0.1)\n",
            "Requirement already satisfied: filelock in c:\\users\\danie\\appdata\\local\\programs\\python\\python311\\lib\\site-packages (from torch) (3.12.0)\n",
            "Requirement already satisfied: typing-extensions in c:\\users\\danie\\appdata\\local\\programs\\python\\python311\\lib\\site-packages (from torch) (4.5.0)\n",
            "Requirement already satisfied: sympy in c:\\users\\danie\\appdata\\local\\programs\\python\\python311\\lib\\site-packages (from torch) (1.12)\n",
            "Requirement already satisfied: networkx in c:\\users\\danie\\appdata\\local\\programs\\python\\python311\\lib\\site-packages (from torch) (3.1)\n",
            "Requirement already satisfied: jinja2 in c:\\users\\danie\\appdata\\local\\programs\\python\\python311\\lib\\site-packages (from torch) (3.1.2)\n",
            "Requirement already satisfied: MarkupSafe>=2.0 in c:\\users\\danie\\appdata\\local\\programs\\python\\python311\\lib\\site-packages (from jinja2->torch) (2.1.2)\n",
            "Requirement already satisfied: mpmath>=0.19 in c:\\users\\danie\\appdata\\local\\programs\\python\\python311\\lib\\site-packages (from sympy->torch) (1.3.0)\n",
            "Note: you may need to restart the kernel to use updated packages.\n"
          ]
        },
        {
          "name": "stderr",
          "output_type": "stream",
          "text": [
            "\n",
            "[notice] A new release of pip available: 22.3.1 -> 23.1.2\n",
            "[notice] To update, run: python.exe -m pip install --upgrade pip\n"
          ]
        }
      ],
      "source": [
        "%pip install torch"
      ]
    },
    {
      "cell_type": "code",
      "execution_count": 10,
      "metadata": {
        "id": "tDIcG28tXvM7"
      },
      "outputs": [],
      "source": [
        "# Crear tensores PyTorch y pasar a CPU o GPU si está disponible\n",
        "import torch\n",
        "\n",
        "# Configurar el dispositivo\n",
        "device = torch.device(\"cuda\" if torch.cuda.is_available() else \"cpu\")\n",
        "\n",
        "\n",
        "# Cree nuestros tensores PyTorch y pase a CPU o GPU si está disponible \n",
        "# Extraiga las entradas y cree un tensor PyTorch x (entradas) \n",
        "inputs = ['fin_semana', 'soleado', 'caluroso', 'quincena', 'precio'] \n",
        "x = torch.tensor(df[inputs].values,dtype=torch.float, device=device) \n",
        "\n",
        "# Extrae las salidas y crea un tensor PyTorch y (outputs) \n",
        "outputs = ['vendidos'] \n",
        "y = torch.tensor(df[ outputs].values,dtype=torch.float, device=device) \n"
      ]
    },
    {
      "cell_type": "code",
      "execution_count": 11,
      "metadata": {
        "colab": {
          "base_uri": "https://localhost:8080/"
        },
        "id": "RaOUF-bvYrVF",
        "outputId": "85afad1e-8557-46c9-b41b-f26c7e68fe90"
      },
      "outputs": [
        {
          "data": {
            "text/plain": [
              "tensor([[ 1.0000,  0.0000,  0.0000,  1.0000,  0.8467],\n",
              "        [ 1.0000,  1.0000,  1.0000,  0.0000,  1.4526],\n",
              "        [ 0.0000,  1.0000,  0.0000,  0.0000,  1.4526],\n",
              "        [ 1.0000,  0.0000,  0.0000,  1.0000, -0.9712],\n",
              "        [ 1.0000,  0.0000,  0.0000,  1.0000,  0.2407]])"
            ]
          },
          "execution_count": 11,
          "metadata": {},
          "output_type": "execute_result"
        }
      ],
      "source": [
        "# Explorar las primeras 5 entradas \n",
        "x[0:5] "
      ]
    },
    {
      "cell_type": "code",
      "execution_count": 12,
      "metadata": {
        "colab": {
          "base_uri": "https://localhost:8080/"
        },
        "id": "occYVwhTYsb7",
        "outputId": "ad5bfc0c-1607-49fb-d334-742c8e3013aa"
      },
      "outputs": [
        {
          "data": {
            "text/plain": [
              "tensor([[-0.0237],\n",
              "        [ 0.7437],\n",
              "        [-0.8492],\n",
              "        [ 0.3949],\n",
              "        [ 0.0810]])"
            ]
          },
          "execution_count": 12,
          "metadata": {},
          "output_type": "execute_result"
        }
      ],
      "source": [
        "# Explorar las primeras 5 salidas \n",
        "y[0:5]"
      ]
    },
    {
      "attachments": {},
      "cell_type": "markdown",
      "metadata": {
        "id": "gLe7mafbVdRt"
      },
      "source": [
        "##ELABORACION DE RED NEURONAL\n"
      ]
    },
    {
      "cell_type": "code",
      "execution_count": 13,
      "metadata": {
        "colab": {
          "base_uri": "https://localhost:8080/"
        },
        "id": "P-gIIG-vWChI",
        "outputId": "4d4009b1-1dc7-4c94-9f8e-fc3b69cb8d52"
      },
      "outputs": [
        {
          "data": {
            "text/plain": [
              "Sequential(\n",
              "  (0): Linear(in_features=5, out_features=100, bias=True)\n",
              "  (1): ReLU()\n",
              "  (2): Linear(in_features=100, out_features=1, bias=True)\n",
              ")"
            ]
          },
          "execution_count": 13,
          "metadata": {},
          "output_type": "execute_result"
        }
      ],
      "source": [
        "import torch\n",
        "import torch.nn as nn\n",
        "\n",
        "# Defina su red neuronal PyTorch \n",
        "# Número de entradas: 5 \n",
        "# Número de unidades ocultas: 100 \n",
        "# Número de capas ocultas: 1 \n",
        "# Función de activación: Relu \n",
        "# Número de salidas: 1 \n",
        "\n",
        "model = nn.Sequential( \n",
        "            nn.Linear(5,100), \n",
        "            nn.ReLU(), \n",
        "            nn.Linear(100,1) \n",
        "        ) \n",
        "\n",
        "# Muévalo a la CPU o GPU dependiendo de lo que tengamos disponible \n",
        "model.to(device)"
      ]
    },
    {
      "attachments": {},
      "cell_type": "markdown",
      "metadata": {
        "id": "LFAsytjCpbwm"
      },
      "source": [
        "##ENTRENAMIENTO"
      ]
    },
    {
      "cell_type": "code",
      "execution_count": 14,
      "metadata": {
        "colab": {
          "base_uri": "https://localhost:8080/"
        },
        "id": "xVWqbyfmprQ3",
        "outputId": "d4d40859-b19d-4fb4-d1ca-b97eb1d4c2a6"
      },
      "outputs": [
        {
          "name": "stdout",
          "output_type": "stream",
          "text": [
            "Pérdida total:  157.41569063617925\n",
            "Pérdida total:  9.934644993570931\n",
            "Pérdida total:  4.8767688183523745\n",
            "Pérdida total:  3.299582062849134\n",
            "Pérdida total:  2.5407380737556053\n"
          ]
        }
      ],
      "source": [
        "import torch.optim as optim \n",
        "\n",
        "# Medir nuestra red neuronal según el \n",
        "criterio=torch.nn.MSELoss()\n",
        "\n",
        "# Entrenar nuestra red con un optimizador SGD simple Optimizer \n",
        "optimizar = optim.SGD(model.parameters(), lr=0.01, momentum =0.9) \n",
        "\n",
        "# Entrenar nuestra red a usando el conjunto de datos completo 5 veces \n",
        "for epoch in range(5):\n",
        "    totalLoss = 0\n",
        "    for i in range(len(x)):\n",
        "       # Single Forward Pass\n",
        "        ypred = model(x[i])\n",
        "        # Medir qué tan bien predijo el modelo frente al valor real \n",
        "        loss = criterio(ypred, y[i]) \n",
        "\n",
        "        # Realizar un seguimiento de qué tan bien predijo el modelo (llamado pérdida) \n",
        "        totalLoss+=loss.item() \n",
        "\n",
        "        # Actualizar la red neuronal\n",
        "        optimizar.zero_grad() \n",
        "        loss.backward() \n",
        "        optimizar.step() \n",
        "\n",
        "    # Imprime nuestra pérdida después de cada iteración de entrenamiento \n",
        "    print (\"Pérdida total: \",totalLoss )"
      ]
    },
    {
      "cell_type": "code",
      "execution_count": 20,
      "metadata": {},
      "outputs": [
        {
          "name": "stdout",
          "output_type": "stream",
          "text": [
            "Requirement already satisfied: matplotlib in c:\\users\\danie\\appdata\\local\\programs\\python\\python311\\lib\\site-packages (3.7.1)\n",
            "Requirement already satisfied: contourpy>=1.0.1 in c:\\users\\danie\\appdata\\local\\programs\\python\\python311\\lib\\site-packages (from matplotlib) (1.0.7)\n",
            "Requirement already satisfied: cycler>=0.10 in c:\\users\\danie\\appdata\\local\\programs\\python\\python311\\lib\\site-packages (from matplotlib) (0.11.0)\n",
            "Requirement already satisfied: fonttools>=4.22.0 in c:\\users\\danie\\appdata\\local\\programs\\python\\python311\\lib\\site-packages (from matplotlib) (4.39.4)\n",
            "Requirement already satisfied: kiwisolver>=1.0.1 in c:\\users\\danie\\appdata\\local\\programs\\python\\python311\\lib\\site-packages (from matplotlib) (1.4.4)\n",
            "Requirement already satisfied: numpy>=1.20 in c:\\users\\danie\\appdata\\local\\programs\\python\\python311\\lib\\site-packages (from matplotlib) (1.24.3)\n",
            "Requirement already satisfied: packaging>=20.0 in c:\\users\\danie\\appdata\\local\\programs\\python\\python311\\lib\\site-packages (from matplotlib) (23.1)\n",
            "Requirement already satisfied: pillow>=6.2.0 in c:\\users\\danie\\appdata\\local\\programs\\python\\python311\\lib\\site-packages (from matplotlib) (9.5.0)\n",
            "Requirement already satisfied: pyparsing>=2.3.1 in c:\\users\\danie\\appdata\\local\\programs\\python\\python311\\lib\\site-packages (from matplotlib) (3.0.9)\n",
            "Requirement already satisfied: python-dateutil>=2.7 in c:\\users\\danie\\appdata\\local\\programs\\python\\python311\\lib\\site-packages (from matplotlib) (2.8.2)\n",
            "Requirement already satisfied: six>=1.5 in c:\\users\\danie\\appdata\\local\\programs\\python\\python311\\lib\\site-packages (from python-dateutil>=2.7->matplotlib) (1.16.0)\n",
            "Note: you may need to restart the kernel to use updated packages.\n"
          ]
        },
        {
          "name": "stderr",
          "output_type": "stream",
          "text": [
            "\n",
            "[notice] A new release of pip available: 22.3.1 -> 23.1.2\n",
            "[notice] To update, run: python.exe -m pip install --upgrade pip\n"
          ]
        }
      ],
      "source": [
        "%pip install matplotlib"
      ]
    },
    {
      "attachments": {},
      "cell_type": "markdown",
      "metadata": {
        "id": "N-k0DUCNtrdb"
      },
      "source": [
        "##MEDICION DE RENDIMIENTO"
      ]
    },
    {
      "cell_type": "code",
      "execution_count": 16,
      "metadata": {
        "colab": {
          "base_uri": "https://localhost:8080/",
          "height": 455
        },
        "id": "dnAK3maotkk4",
        "outputId": "1898b79b-a341-443a-b687-eb78b6cb8877"
      },
      "outputs": [
        {
          "data": {
            "image/png": "[encoded data removed]",
            "text/plain": [
              "<Figure size 640x480 with 1 Axes>"
            ]
          },
          "metadata": {},
          "output_type": "display_data"
        }
      ],
      "source": [
        "import matplotlib.pyplot as plt\n",
        "# Graficar predicciones vs. valores verdaderos \n",
        "@torch.no_grad() \n",
        "def prediccion_grafica(model, x, y , minValue, maxValue): \n",
        "    model.eval() \n",
        "    # Establecer el modelo en modo de inferencia \n",
        "\n",
        "    predicciones=[] \n",
        "    # Seguir predicciones \n",
        "    actual=[] \n",
        "    # Rastree las etiquetas reales \n",
        "\n",
        "    x.to(device) \n",
        "    y.to(device) \n",
        "    model.to(device) \n",
        "\n",
        "    for i in range(len(x)): \n",
        "        # Paso único hacia adelante \n",
        "        pred = model(x[i])                                \n",
        "        \n",
        "        # Des- normalizar nuestra predicción \n",
        "        pred = pred*vendidosStd+vendidosMean \n",
        "        act = y[i]*vendidosStd+vendidosMean \n",
        "\n",
        "        # Guardar predicción y etiqueta real\n",
        "        predicciones.append(pred.tolist()) \n",
        "        actual.append(act.item()) \n",
        "\n",
        "    # Trazar datos reales vs predicciones   \n",
        "    plt.scatter(actual, predicciones) \n",
        "    plt.xlabel('Limonadas vendidas') \n",
        "    plt.ylabel('Limonadas pronosticadas ') \n",
        "    plt.plot([minValue,maxValue], [minValue,maxValue]) \n",
        "    plt.xlim(minValue, maxValue) \n",
        "    plt.ylim(minValue, maxValue) \n",
        "\n",
        "    # Hacer que la visualización sea igual en ambas dimensiones \n",
        "    plt.gca().set_aspect('equal', adjustable='box')\n",
        "    plt.show() \n",
        "\n",
        "prediccion_grafica(model, x, y, 0, 350)"
      ]
    },
    {
      "attachments": {},
      "cell_type": "markdown",
      "metadata": {
        "id": "jWFgqTjzy6BY"
      },
      "source": [
        "##PREDICCIONES PROPIAS\n"
      ]
    },
    {
      "cell_type": "code",
      "execution_count": 17,
      "metadata": {
        "colab": {
          "base_uri": "https://localhost:8080/"
        },
        "id": "PoQXyw_e43hT",
        "outputId": "3b93c4b1-a529-4e61-bc48-5996803da9da"
      },
      "outputs": [
        {
          "name": "stdout",
          "output_type": "stream",
          "text": [
            "Neural Network Predicts: 132.8534393310547\n",
            "Resultado real: 130\n"
          ]
        }
      ],
      "source": [
        "# A continuación, usamos la fórmula del generador de datos sintéticos para\n",
        "# determinar cuál debería haber sido el resultado real.\n",
        "def datasetGenerator(fin_semana, soleado, calido, quincena, precio):\n",
        "    num_limonadasV = 0\n",
        "    if fin_semana:\n",
        "        num_limonadasV = (soleado * 5 + int(500 / precio))\n",
        "        if quincena:\n",
        "            num_limonadasV = 1.3 * num_limonadasV\n",
        "        if calido:\n",
        "            num_limonadasV = 2 * num_limonadasV\n",
        "        if soleado:\n",
        "            num_limonadasV = 1.25 * num_limonadasV\n",
        "    num_limonadasV = int(num_limonadasV)\n",
        "\n",
        "    return num_limonadasV\n",
        "\n",
        "\n",
        "# Datos que afectan la cantidad de limones vendidos en un día\n",
        "fin_semana = 1\n",
        "soleado = 0\n",
        "calido = 0\n",
        "quincena = 1\n",
        "precio = 5\n",
        "\n",
        "# Calcule cuál hubiera sido el resultado real usando\n",
        "# el algoritmo del conjunto de datos sintético\n",
        "actual = datasetGenerator(fin_semana, soleado, calido, quincena, precio)\n",
        "\n",
        "# Use la CPU ya que solo necesitamos hacer un cálculo único\n",
        "model.to('cpu')\n",
        "\n",
        "# Normalizar nuestras entradas usando los mismos valores para nuestro entrenamiento\n",
        "precio = (precio - precioMean) / precioStd\n",
        "\n",
        "# Crear nuestro tensor de entrada\n",
        "x1 = torch.tensor([fin_semana, soleado, calido, quincena, precio], dtype=torch.float)\n",
        "\n",
        "# Pasar la entrada a la red neuronal\n",
        "y1 = model(x1)\n",
        "\n",
        "# Desnormalizar nuestra salida y1\n",
        "y1 = y1 * vendidosStd + vendidosMean\n",
        "\n",
        "# Comparar lo que su red predijo con el resultado real\n",
        "print(\"Neural Network Predicts:\", y1.item())\n",
        "print(\"Resultado real:\", actual)\n"
      ]
    }
  ],
  "metadata": {
    "colab": {
      "gpuType": "T4",
      "provenance": []
    },
    "gpuClass": "standard",
    "kernelspec": {
      "display_name": "Python 3",
      "name": "python3"
    },
    "language_info": {
      "codemirror_mode": {
        "name": "ipython",
        "version": 3
      },
      "file_extension": ".py",
      "mimetype": "text/x-python",
      "name": "python",
      "nbconvert_exporter": "python",
      "pygments_lexer": "ipython3",
      "version": "3.11.3"
    }
  },
  "nbformat": 4,
  "nbformat_minor": 0
}
